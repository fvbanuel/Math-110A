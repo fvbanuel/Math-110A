{
 "cells": [
  {
   "cell_type": "markdown",
   "metadata": {},
   "source": [
    "# Midterm Review\n",
    "\n",
    "For this review, we will take note of \n",
    "* A few recent homework problems\n",
    "* A general review of topics covered so far"
   ]
  },
  {
   "cell_type": "markdown",
   "metadata": {},
   "source": [
    "---"
   ]
  },
  {
   "cell_type": "markdown",
   "metadata": {},
   "source": [
    "I received many questions about a few recent homework problems, so let's look in a little more detail at those first:"
   ]
  },
  {
   "cell_type": "markdown",
   "metadata": {},
   "source": [
    "### HW 3, #2\n",
    "\n",
    "**Problem:** Construct a single variable $C^3$ function for which Newton's method does not converge to a critical point from an initial point. You may either prove divergence or show it computationally. From the same initial point, run Newton's method with backtracking line search. Comment on convergence/divergence.\n",
    "\n",
    "**Solution:** One approach to this problem rather than just taking a shot in the dark and hoping for a good function is to use a bit of knowledge about how Newton's method works. Recall that for single variable functions, [Newton's method for *root finding*](https://en.wikipedia.org/wiki/Newton%27s_method) (i.e. a solution to $f(x)=0$) is defined as\n",
    "\n",
    "$$ x_{k+1} = x_k - \\frac{f(x_k)}{f'(x_k)} $$\n",
    "\n",
    "and can be interpreted as iteratively forming a tangent line to the function $f(x)$ at the point $x_k$, determining where that tangent line crosses the $x$-axis, and setting $x_{k+1}$ to that value. [Newton's method for *optimization*](https://en.wikipedia.org/wiki/Newton's_method_in_optimization) is essentially root finding on the derivative, finding a solution to $f'(x)=0$. Thus, we set\n",
    "\n",
    "$$ x_{k+1} = x_k - \\frac{f'(x_k)}{f''(x_k)} $$\n",
    "\n",
    "If we want a function where Newton's method for optimization doesn't converge nicely, that is equivalent to finding a function where Newton's method for root-finding does not converge nicely, then using an antiderivative of that function. What types of functions will Newton's method for root-finding have trouble with? Very flat functions where the tangent line is almost horizontal and thus produces very large steps in each iteration. Several examples that come to mind are [sigmoid functions](https://en.wikipedia.org/wiki/Sigmoid_function), commonly used as [activation functions](https://en.wikipedia.org/wiki/Activation_function) for neural networks, several examples of which are shown below:\n",
    "\n",
    "<img src=\"https://upload.wikimedia.org/wikipedia/commons/thumb/6/6f/Gjl-t%28x%29.svg/1024px-Gjl-t%28x%29.svg.png\" width=60% />"
   ]
  },
  {
   "cell_type": "markdown",
   "metadata": {},
   "source": [
    "In each of the above examples, there is a zero at the origin, but for very large positive or negative initial values of $x$, the tangent line to $f(x)$ is very flat and thus produces a huge step, oscillating in sign each time. Below we test two example functions\n",
    "\n",
    "$$ \\begin{align*}\n",
    "    f_1(x) &= \\frac{1}{1+e^{-x}} - \\frac{1}{2} \\\\\n",
    "    f_2(x) &= \\tanh(x)\n",
    "\\end{align*}$$"
   ]
  },
  {
   "cell_type": "code",
   "execution_count": 1,
   "metadata": {},
   "outputs": [],
   "source": [
    "import numpy as np\n",
    "import matplotlib.pyplot as plt"
   ]
  },
  {
   "cell_type": "code",
   "execution_count": 2,
   "metadata": {},
   "outputs": [],
   "source": [
    "f1 = lambda x: 1/(1+np.exp(-x)) - 1/2\n",
    "df1 = lambda x: np.exp(-x)/(1+np.exp(-x))**2\n",
    "f2 = lambda x: np.tanh(x)\n",
    "df2 = lambda x: 1 - np.tanh(x)**2"
   ]
  },
  {
   "cell_type": "code",
   "execution_count": 3,
   "metadata": {},
   "outputs": [
    {
     "data": {
      "image/png": "[encoded data removed]",
      "text/plain": [
       "<Figure size 1500x450 with 2 Axes>"
      ]
     },
     "metadata": {
      "needs_background": "light"
     },
     "output_type": "display_data"
    }
   ],
   "source": [
    "x = np.linspace(-10,10,1000)\n",
    "fig,ax = plt.subplots(1,2,sharey=True,figsize=(10,3),dpi=150)\n",
    "ax[0].plot(x,f1(x))\n",
    "ax[0].plot(x,0*x)\n",
    "ax[0].set_title('$\\sigma(x)-1/2$')\n",
    "\n",
    "ax[1].plot(x,f2(x))\n",
    "ax[1].plot(x,0*x)\n",
    "ax[1].set_title('tanh(x)')\n",
    "\n",
    "plt.show()"
   ]
  },
  {
   "cell_type": "code",
   "execution_count": 4,
   "metadata": {},
   "outputs": [],
   "source": [
    "def NewtonRoot(f,df,x0,tol=1e-3,maxIter=10):\n",
    "    '''Run Newton's method to find a solution to f(x)=0'''\n",
    "    print('Initial point:',x0)\n",
    "    x = x0\n",
    "    i = 0\n",
    "    while abs(f(x))>tol and i<maxIter:\n",
    "        x = x - f(x)/df(x)\n",
    "        i += 1\n",
    "        print('Point after '+str(i)+' iterations:',x)"
   ]
  },
  {
   "cell_type": "code",
   "execution_count": 9,
   "metadata": {},
   "outputs": [
    {
     "name": "stdout",
     "output_type": "stream",
     "text": [
      "Initial point: -13\n",
      "Point after 1 iterations: 221193.6960033301\n",
      "Point after 2 iterations: -inf\n",
      "Point after 3 iterations: nan\n"
     ]
    },
    {
     "name": "stderr",
     "output_type": "stream",
     "text": [
      "/opt/anaconda3/lib/python3.7/site-packages/ipykernel_launcher.py:7: RuntimeWarning: divide by zero encountered in double_scalars\n",
      "  import sys\n",
      "/opt/anaconda3/lib/python3.7/site-packages/ipykernel_launcher.py:2: RuntimeWarning: invalid value encountered in double_scalars\n",
      "  \n"
     ]
    }
   ],
   "source": [
    "NewtonRoot(f1,df1,-13,tol=1e-9)"
   ]
  },
  {
   "cell_type": "code",
   "execution_count": 12,
   "metadata": {},
   "outputs": [
    {
     "name": "stdout",
     "output_type": "stream",
     "text": [
      "Initial point: -2\n",
      "Point after 1 iterations: 11.644958598563884\n",
      "Point after 2 iterations: -3255537298.567099\n",
      "Point after 3 iterations: inf\n",
      "Point after 4 iterations: nan\n"
     ]
    },
    {
     "name": "stderr",
     "output_type": "stream",
     "text": [
      "/opt/anaconda3/lib/python3.7/site-packages/ipykernel_launcher.py:7: RuntimeWarning: divide by zero encountered in double_scalars\n",
      "  import sys\n",
      "/opt/anaconda3/lib/python3.7/site-packages/ipykernel_launcher.py:7: RuntimeWarning: invalid value encountered in double_scalars\n",
      "  import sys\n"
     ]
    }
   ],
   "source": [
    "NewtonRoot(f2,df2,-2)"
   ]
  },
  {
   "cell_type": "markdown",
   "metadata": {},
   "source": [
    "Now to adapt this knowlege for Newton's method for optimization, we can simply run it on the antiderivative of each of these functions, which are relatively straightforward to compute. Note that since the functions originally defined are actually $C^\\infty$, their antiderivatives will inherit this property and thus be much *more* than $C^3$. Furthermore, each of $f_1(x)$ and $f_2(x)$ are even monotonically increasing, so their derivatives are always positive, which means the second derivative (Hessian) of their integrals is always positive, and thus these two are even examples of *strictly convex*, *infinitely smooth* functions where Newton's method for optimization doesn't converge. We show this below:"
   ]
  },
  {
   "cell_type": "code",
   "execution_count": 13,
   "metadata": {},
   "outputs": [],
   "source": [
    "int_f1 = lambda x: np.log(np.exp(x)+1)-x/2\n",
    "int_f2 = lambda x: np.log(np.cosh(x))"
   ]
  },
  {
   "cell_type": "code",
   "execution_count": 14,
   "metadata": {},
   "outputs": [
    {
     "data": {
      "image/png": "[encoded data removed]",
      "text/plain": [
       "<Figure size 1500x450 with 2 Axes>"
      ]
     },
     "metadata": {
      "needs_background": "light"
     },
     "output_type": "display_data"
    }
   ],
   "source": [
    "x = np.linspace(-10,10,1000)\n",
    "fig,ax = plt.subplots(1,2,sharey=True,figsize=(10,3),dpi=150)\n",
    "ax[0].plot(x,int_f1(x))\n",
    "ax[0].set_title('$\\int \\sigma(x)-1/2\\, dx$')\n",
    "\n",
    "ax[1].plot(x,int_f2(x))\n",
    "ax[1].set_title('$\\int tanh(x)\\, dx$')\n",
    "\n",
    "plt.show()"
   ]
  },
  {
   "cell_type": "code",
   "execution_count": 15,
   "metadata": {},
   "outputs": [],
   "source": [
    "def NewtonOpt(f,df,d2f,x0,tol=1e-3,maxIter=10):\n",
    "    '''Run Newton's method to find a solution to f'(x)=0, i.e. a minimum of f(x)'''\n",
    "    print('Initial point:',x0)\n",
    "    x = x0\n",
    "    i = 0\n",
    "    while abs(df(x))>tol and i<maxIter:\n",
    "        x = x - df(x)/df2(x)\n",
    "        i += 1\n",
    "        print('Point after '+str(i)+' iterations:',x)"
   ]
  },
  {
   "cell_type": "code",
   "execution_count": 16,
   "metadata": {},
   "outputs": [
    {
     "name": "stdout",
     "output_type": "stream",
     "text": [
      "Initial point: -3\n",
      "Point after 1 iterations: 42.87192600568719\n",
      "Point after 2 iterations: -inf\n",
      "Point after 3 iterations: nan\n"
     ]
    },
    {
     "name": "stderr",
     "output_type": "stream",
     "text": [
      "/opt/anaconda3/lib/python3.7/site-packages/ipykernel_launcher.py:7: RuntimeWarning: divide by zero encountered in double_scalars\n",
      "  import sys\n",
      "/opt/anaconda3/lib/python3.7/site-packages/ipykernel_launcher.py:7: RuntimeWarning: invalid value encountered in double_scalars\n",
      "  import sys\n"
     ]
    }
   ],
   "source": [
    "NewtonOpt(int_f1,f1,df1,-3)"
   ]
  },
  {
   "cell_type": "code",
   "execution_count": 17,
   "metadata": {},
   "outputs": [
    {
     "name": "stdout",
     "output_type": "stream",
     "text": [
      "Initial point: 2\n",
      "Point after 1 iterations: -11.644958598563884\n",
      "Point after 2 iterations: 3255537298.567099\n",
      "Point after 3 iterations: -inf\n",
      "Point after 4 iterations: nan\n"
     ]
    },
    {
     "name": "stderr",
     "output_type": "stream",
     "text": [
      "/opt/anaconda3/lib/python3.7/site-packages/ipykernel_launcher.py:7: RuntimeWarning: divide by zero encountered in double_scalars\n",
      "  import sys\n",
      "/opt/anaconda3/lib/python3.7/site-packages/ipykernel_launcher.py:7: RuntimeWarning: invalid value encountered in double_scalars\n",
      "  import sys\n"
     ]
    }
   ],
   "source": [
    "NewtonOpt(int_f2,f2,df2,2)"
   ]
  },
  {
   "cell_type": "markdown",
   "metadata": {},
   "source": [
    "Implementing backtracking during each iteration (exercise) will have the effect of taming down the huge step sizes, guaranteeing descent, and thus guaranteeing convergence."
   ]
  },
  {
   "cell_type": "markdown",
   "metadata": {},
   "source": [
    "### HW 3, #4\n",
    "\n",
    "**Problem:** Derive the BFGS update formula of $H$ matrices by using duality on the DFP update of $H$ matrices and the Sherman-Morrison formula.\n",
    "\n",
    "**Solution:** This problem was an algebraic pain, but should have been relatively straightforward conceptually. Recall that the $H_k$ update in DFP is given by\n",
    "\n",
    "$$ H_{k+1} = H_k + \\frac{\\mathbf{s}_k \\mathbf{s}_k^T}{\\mathbf{y}_k^{T} \\mathbf{s}_k} - \\frac{H_k \\mathbf{y}_k \\mathbf{y}_k^T H_k}{\\mathbf{y}_k^T H_k \\mathbf{y}_k} $$\n",
    "\n",
    "Applying duality gives the $B_k$ update for BFGS as\n",
    "\n",
    "$$ B_{k+1} = B_k + \\frac{\\mathbf{y}_k \\mathbf{y}_k^T}{\\mathbf{s}_k^{T} \\mathbf{y}_k} - \\frac{B_k \\mathbf{s}_k \\mathbf{s}_k^T B_k}{\\mathbf{s}_k^T B_k \\mathbf{s}_k} $$"
   ]
  },
  {
   "cell_type": "markdown",
   "metadata": {},
   "source": [
    "To get the $H_k$ update formula for BFGS, we are asked to apply the Sherman-Morrison formula,\n",
    "\n",
    "$$ (A+\\mathbf{u}\\mathbf{v}^T)^{-1} = A^{-1} - \\frac{A^{-1}\\mathbf{u}\\mathbf{v}^TA^{-1}}{1 + \\mathbf{v}^TA^{-1}\\mathbf{u}} $$\n",
    "\n",
    "but in order to do so, we need to make $H_{k+1}$ look like this rank 1 update form. The trick here is to apply S-M twice, first setting\n",
    "\n",
    "$$ A= B_k + \\frac{\\mathbf{y}_k \\mathbf{y}_k^T}{\\mathbf{s}_k^{T} \\mathbf{y}_k},\\qquad \\mathbf{u} = -\\frac{B_k \\mathbf{s}_k}{\\mathbf{s}_k^T B_k \\mathbf{s}_k},\\quad \\mathbf{v} = B_k\\mathbf{s}_k $$\n",
    "\n",
    "(note that $B_k=B_k^T$). Then"
   ]
  },
  {
   "cell_type": "markdown",
   "metadata": {},
   "source": [
    "$$ H_{k+1} = B_{k+1}^{-1} = (A+\\mathbf{u}\\mathbf{v}^T)^{-1} = \\left(B_k + \\frac{\\mathbf{y}_k \\mathbf{y}_k^T}{\\mathbf{s}_k^{T} \\mathbf{y}_k}\\right)^{-1} + \\frac{\\left(B_k + \\frac{\\mathbf{y}_k \\mathbf{y}_k^T}{\\mathbf{s}_k^{T} \\mathbf{y}_k}\\right)^{-1}\\frac{B_k \\mathbf{s}_k \\mathbf{s}_k^T B_k}{\\mathbf{s}_k^T B_k \\mathbf{s}_k}\\left(B_k + \\frac{\\mathbf{y}_k \\mathbf{y}_k^T}{\\mathbf{s}_k^{T} \\mathbf{y}_k}\\right)^{-1}}{1 - \\mathbf{s}_k^TB_k\\left(B_k + \\frac{\\mathbf{y}_k \\mathbf{y}_k^T}{\\mathbf{s}_k^{T} \\mathbf{y}_k}\\right)^{-1}\\frac{B_k \\mathbf{s}_k}{\\mathbf{s}_k^T B_k \\mathbf{s}_k}} $$"
   ]
  },
  {
   "cell_type": "markdown",
   "metadata": {},
   "source": [
    "Then, since $A$ itself is written as a matrix plus a rank 1 update, we can invert *it* with the S-M formula, setting $\\mathbf{u} = \\frac{\\mathbf{y}_k}{\\mathbf{s}_k^T\\mathbf{y}_k}$ and $\\mathbf{v} = \\mathbf{y}_k$ to get\n",
    "\n",
    "$$ \\left(B_k + \\frac{\\mathbf{y}_k \\mathbf{y}_k^T}{\\mathbf{s}_k^{T} \\mathbf{y}_k}\\right)^{-1} = B_k^{-1} - \\frac{B_k^{-1}\\frac{\\mathbf{y}_k \\mathbf{y}_k^T}{\\mathbf{s}_k^{T} \\mathbf{y}_k}B_k^{-1}}{1+ \\mathbf{y}_k^TB_k^{-1}\\frac{\\mathbf{y}_k}{\\mathbf{s}_k^T\\mathbf{y}_k}} = H_k - \\frac{\\frac{1}{\\mathbf{s}_k^T\\mathbf{y}_k}H_k\\mathbf{y}_k\\mathbf{y}_k^TH_k}{1+\\frac{\\mathbf{y}_k^TH_k\\mathbf{y}_k}{\\mathbf{s}_k^T\\mathbf{y}_k}} = H_k - \\frac{H_k\\mathbf{y}_k\\mathbf{y}_k^TH_k}{\\mathbf{s}_k^T\\mathbf{y}_k+\\mathbf{y}_k^TH_k\\mathbf{y}_k}$$"
   ]
  },
  {
   "cell_type": "markdown",
   "metadata": {},
   "source": [
    "Plugging this into the above leads to some nice simplication:\n",
    "\n",
    "$$ \\begin{align*}\n",
    "    H_{k+1} & = H_k - \\frac{H_k\\mathbf{y}_k\\mathbf{y}_k^TH_k}{\\mathbf{s}_k^T\\mathbf{y}_k+\\mathbf{y}_k^TH_k\\mathbf{y}_k} + \\frac{\\left(H_k - \\frac{H_k\\mathbf{y}_k\\mathbf{y}_k^TH_k}{\\mathbf{s}_k^T\\mathbf{y}_k+\\mathbf{y}_k^TH_k\\mathbf{y}_k}\\right) \\frac{B_k \\mathbf{s}_k \\mathbf{s}_k^T B_k}{\\mathbf{s}_k^T B_k \\mathbf{s}_k} \\left(H_k - \\frac{H_k\\mathbf{y}_k\\mathbf{y}_k^TH_k}{\\mathbf{s}_k^T\\mathbf{y}_k+\\mathbf{y}_k^TH_k\\mathbf{y}_k}\\right)}{1 - \\mathbf{s}_k^TB_k\\left(H_k - \\frac{H_k\\mathbf{y}_k\\mathbf{y}_k^TH_k}{\\mathbf{s}_k^T\\mathbf{y}_k+\\mathbf{y}_k^TH_k\\mathbf{y}_k}\\right) \\frac{B_k \\mathbf{s}_k}{\\mathbf{s}_k^T B_k \\mathbf{s}_k}} \\\\\n",
    "    &= H_k - \\frac{H_k\\mathbf{y}_k\\mathbf{y}_k^TH_k}{\\mathbf{s}_k^T\\mathbf{y}_k+\\mathbf{y}_k^TH_k\\mathbf{y}_k} + \\frac{\\frac{\\mathbf{s}_k\\mathbf{s}_k^T}{\\mathbf{s}_k^TB_k\\mathbf{s}_k} + \\frac{\\mathbf{s}_k\\mathbf{s}_k^T\\mathbf{y}_k\\mathbf{y}_k^TH_k}{\\mathbf{s}_k^TB_k\\mathbf{s}_k(\\mathbf{s}_k^T\\mathbf{y}_k + \\mathbf{y}_k^TH_k\\mathbf{y}_k)} - \\frac{H_k\\mathbf{y}_k\\mathbf{y}_k^T\\mathbf{s}_k\\mathbf{s}_k^T}{\\mathbf{s}_k^TB_k\\mathbf{s}_k(\\mathbf{s}_k^T\\mathbf{y}_k+\\mathbf{y}_k^TH_k\\mathbf{y}_k)} + \\frac{H_k\\mathbf{y}_k\\mathbf{y}_k^T\\mathbf{s}_k\\mathbf{s}_k^T\\mathbf{y}_k\\mathbf{y}_k^TH_k}{\\mathbf{s}_k^TB_k\\mathbf{s}_k(\\mathbf{s}_k^T\\mathbf{y}_k+\\mathbf{y}_k^TH_k\\mathbf{y}_k)^2}}{1 - \\frac{\\mathbf{s}_k^TB_k\\mathbf{s}_k}{\\mathbf{s}_k^TB_k\\mathbf{s}_k} + \\frac{\\mathbf{s}_k^T\\mathbf{y}_k\\mathbf{y}_k^T\\mathbf{s}_k}{\\mathbf{s}_k^TB_k\\mathbf{s}_k(\\mathbf{s}_k^T\\mathbf{y}_k + \\mathbf{y}_k^TH_k\\mathbf{y}_k)}} \\\\\n",
    "    &= H_k - \\frac{H_k\\mathbf{y}_k\\mathbf{y}_k^TH_k}{\\mathbf{s}_k^T\\mathbf{y}_k+\\mathbf{y}_k^TH_k\\mathbf{y}_k} + \\frac{\\mathbf{s}_k\\mathbf{s}_k^T + \\frac{\\mathbf{s}_k\\mathbf{s}_k^T\\mathbf{y}_k\\mathbf{y}_k^TH_k}{\\mathbf{s}_k^T\\mathbf{y}_k + \\mathbf{y}_k^TH_k\\mathbf{y}_k} - \\frac{H_k\\mathbf{y}_k\\mathbf{y}_k^T\\mathbf{s}_k\\mathbf{s}_k^T}{\\mathbf{s}_k^T\\mathbf{y}_k+\\mathbf{y}_k^TH_k\\mathbf{y}_k} + \\frac{H_k\\mathbf{y}_k\\mathbf{y}_k^T\\mathbf{s}_k\\mathbf{s}_k^T\\mathbf{y}_k\\mathbf{y}_k^TH_k}{(\\mathbf{s}_k^T\\mathbf{y}_k+\\mathbf{y}_k^TH_k\\mathbf{y}_k)^2}}{\\frac{\\mathbf{s}_k^T\\mathbf{y}_k\\mathbf{y}_k^T\\mathbf{s}_k}{\\mathbf{s}_k^T\\mathbf{y}_k + \\mathbf{y}_k^TH_k\\mathbf{y}_k}} \\\\\n",
    "    &= H_k - \\frac{H_k\\mathbf{y}_k\\mathbf{y}_k^TH_k}{\\mathbf{s}_k^T\\mathbf{y}_k+\\mathbf{y}_k^TH_k\\mathbf{y}_k} + \\frac{1}{(\\mathbf{s}_k^T\\mathbf{y}_k)^2}\\left(\\mathbf{s}_k\\mathbf{s}_k^T(\\mathbf{s}_k^T\\mathbf{y}_k + \\mathbf{y}_k^TH_k\\mathbf{y}_k) + \\mathbf{s}_k\\mathbf{s}_k^T\\mathbf{y}_k\\mathbf{y}_k^TH_k - H_k\\mathbf{y}_k\\mathbf{y}_k^T\\mathbf{s}_k\\mathbf{s}_k^T + \\frac{H_k\\mathbf{y}_k\\mathbf{y}_k^T\\mathbf{s}_k\\mathbf{s}_k^T\\mathbf{y}_k\\mathbf{y}_k^TH_k}{\\mathbf{s}_k^T\\mathbf{y}_k+\\mathbf{y}_k^TH_k\\mathbf{y}_k}\\right) \\\\\n",
    "    &= H_k + \\frac{1}{(\\mathbf{s}_k^T\\mathbf{y}_k)^2}\\bigg(\\mathbf{s}_k\\mathbf{s}_k^T(\\mathbf{s}_k^T\\mathbf{y}_k + \\mathbf{y}_k^TH_k\\mathbf{y}_k) + \\mathbf{s}_k\\mathbf{s}_k^T\\mathbf{y}_k\\mathbf{y}_k^TH_k - H_k\\mathbf{y}_k\\mathbf{y}_k^T\\mathbf{s}_k\\mathbf{s}_k^T\\bigg) \\\\\n",
    "    &= H_k + (\\mathbf{y}_k^T\\mathbf{s}_k+\\mathbf{y}_k^T H_k \\mathbf{y}_k)\\frac{\\mathbf{s}_k \\mathbf{s}_k^T}{(\\mathbf{s}_k^T \\mathbf{y}_k)^2} - \\frac{H_k \\mathbf{y}_k \\mathbf{s}_k^T + \\mathbf{s}_k \\mathbf{y}_k^TH_k}{\\mathbf{s}_k^T\\mathbf{y}_k} \n",
    "\\end{align*}$$"
   ]
  },
  {
   "cell_type": "markdown",
   "metadata": {},
   "source": [
    "where we have made ample use of the fact that\n",
    "\n",
    "1. $B_kH_k = H_kB_k = I$\n",
    "2. Things like $\\mathbf{y}_k^T\\mathbf{s}_k$ and $\\mathbf{s}_k^TB_k\\mathbf{s}_k$ are scalars and so can be moved around as we wish.\n",
    "\n",
    "We recognize this final step as the expanded form of the BFGS update presented in Discussion 8, equivalent to\n",
    "\n",
    "$$ H_{k+1} = \\left(I-\\frac{\\mathbf{s}_k\\mathbf{y}_k^T}{\\mathbf{y}_k^T\\mathbf{s}_k}\\right)H_k\\left(I-\\frac{\\mathbf{y}_k\\mathbf{s}_k^T}{\\mathbf{y}_k^T\\mathbf{s}_k}\\right) + \\frac{\\mathbf{s}_k\\mathbf{s}_k^T}{\\mathbf{y}_k^T\\mathbf{s}_k} $$"
   ]
  },
  {
   "cell_type": "markdown",
   "metadata": {},
   "source": [
    "---"
   ]
  },
  {
   "cell_type": "markdown",
   "metadata": {},
   "source": [
    "## Midterm Review\n",
    "\n",
    "The entire field of **optimization** concerns one broad topic only:\n",
    "\n",
    ">Given some (usually scalar) function $f(\\mathbf{x})$ of in general many variables (i.e. $\\mathbf{x}\\in\\mathbb{R}^n$, $n\\ge1$), find a point $\\mathbf{x}^*$ such that $f(\\mathbf{x}^*)\\le f(\\mathbf{x})$ for all other $\\mathbf{x}$, i.e. $\\mathbf{x}^*$ is a minimizer of $f$.\n",
    "\n",
    "Mathematically, finding a minimum of a function, even one with many inputs, is straightforward. A **sufficient condition** for (at least a local) minimum is that\n",
    "1. $\\nabla f(\\mathbf{x}^*)=\\mathbf{0}$.\n",
    "2. $\\nabla^2 f(\\mathbf{x}^*)$ is a [symmetric positive definite (SPD)](https://en.wikipedia.org/wiki/Definite_symmetric_matrix) matrix.\n",
    "\n",
    "In practice, however, finding such an $\\mathbf{x}^*$ algebraically can be extrememly difficult, particularly if the system of equations is highly nonlinear. For this reason, we have investigated many **iterative optimization algorithms**, where we make some initial \"guess\" of solution $\\mathbf{x}_0$, then iteratively update our guess to create a sequence $\\mathbf{x}_1$, $\\mathbf{x}_2$, $\\ldots$, $\\mathbf{x}_k$, $\\ldots$ which hopefully better and better approximates a minimum value of the function $f$.\n"
   ]
  },
  {
   "cell_type": "markdown",
   "metadata": {},
   "source": [
    "Every iterative method we have discussed so far has been an example of a **line search** method, the main idea of which is to choose some direction $\\mathbf{p}_k$ in which to \"step\" at each iteration and set\n",
    "\n",
    "$$ \\mathbf{x}_{k+1}=\\mathbf{x}_k+\\alpha_k\\mathbf{p}_k $$\n",
    "\n",
    "for some scalar value $\\alpha_k$ called the \"step length\", determined at each iteration. The choice of $\\mathbf{p}_k$ determines the method, and once its been chosen, we try to determine an $\\alpha_k$ that guarantees descent and thus convergence."
   ]
  },
  {
   "cell_type": "markdown",
   "metadata": {},
   "source": [
    "### Choice of search direction $\\mathbf{p}_k$ \n",
    "\n",
    "In order to converge, the choice of $\\mathbf{p}_k$ must be a **descent direction**, satisfying $\\mathbf{p}_k^T\\nabla f_k<0$, i.e making an angle of more than 90º with the gradient. If this condition is satisfied, at least for small enough choice of $\\alpha_k$, we are guaranteed convergence as $k\\to\\infty$. Below we list out each of the line search methods we have discussed so far this quarter, along with their choice of $\\mathbf{p}_k$:"
   ]
  },
  {
   "cell_type": "markdown",
   "metadata": {},
   "source": [
    "<table>\n",
    "    <tr>\n",
    "        <td style=\"font-weight:bold; text-align:center; width:20%\"> Method name </td>\n",
    "        <td style=\"font-weight:bold; text-align:center; width:30%\"> Search direction </td>\n",
    "        <td style=\"font-weight:bold; text-align:center; width:50%\"> Notes </td>\n",
    "    </tr>\n",
    "    <tr>\n",
    "        <td style=\"text-align:center\"> Steepest descent </td>\n",
    "        <td style=\"text-align:center\"> $\\mathbf{p}_k = -\\nabla f_k$</td>\n",
    "        <td style=\"text-align:left\"> Simplest method, always descent direction (globally convergent), converges linearly at worst </td>\n",
    "    </tr>\n",
    "    <tr>\n",
    "        <td style=\"text-align:center\"> Newton's method </td>\n",
    "        <td style=\"text-align:center\"> $\\mathbf{p}_k = -[\\nabla^2f_k]^{-1}\\nabla f_k$ </td>\n",
    "        <td style=\"text-align:left\"> Only descent direction if $\\nabla^2f_k>0$ (i.e. only locally convergent), may not even be defined if Hessian singular, requires expensive computation to invert Hessian but converges quadratically if \"close enough\" to minimizer </td>\n",
    "    </tr>\n",
    "    <tr>\n",
    "        <td style=\"text-align:center\"> Quasi-Newton methods </td>\n",
    "        <td style=\"text-align:center\"> $\\mathbf{p}_k = -H_k\\nabla f_k$ </td>\n",
    "        <td style=\"text-align:left\"> Many different methods distinguished by different choices of $H_k$, avoid expensive inversion of Hessian and typically converge superlinearly but not necessarily quadratically </td>\n",
    "    </tr>\n",
    "    <tr>\n",
    "        <td style=\"text-align:center\"> Conjugate gradient methods </td>\n",
    "        <td style=\"text-align:center\"> $\\mathbf{p}_k = -\\nabla f_k + \\beta_k\\mathbf{p}_{k-1}$ </td>\n",
    "        <td style=\"text-align:left\"> Many different methods distinguised by choice of $\\beta_k$, less is known analytically about convergence but usually superlinear in practice, provided \"restarting\" is used </td>\n",
    "    </tr>\n",
    "</table>"
   ]
  },
  {
   "cell_type": "markdown",
   "metadata": {},
   "source": [
    "### Choice of step size $\\alpha_k$\n",
    "\n",
    "As stated above, the choice of step size is a decision independent of the choice of search direction. Given any choice of $\\mathbf{p}_k$, we can choose a step size $\\alpha_k$ to move in that direction. The most analytically straightforward method of calculating the step size is to solving (either exactly or approximately) the subproblem\n",
    "\n",
    "$$ \\alpha_k = \\text{argmin}_{\\alpha>0} f(\\mathbf{x}_k+\\alpha \\mathbf{p}_k) $$\n",
    "\n",
    "<img src=\"https://media.springernature.com/original/springer-static/image/chp%3A10.1007%2F978-3-030-11184-7_5/MediaObjects/447852_1_En_5_Fig2_HTML.png\" width=\"75%\" />\n",
    "\n",
    "i.e., look infinitely far along the line in the direction of $\\mathbf{p}_k$ and find the smallest value of $f$ in that direction. To find the value of $\\alpha$ that minimizes the RHS, we could think of it as a (one-dimensional!) function of $\\alpha$, say, $\\phi(\\alpha)=f(\\mathbf{x}+\\alpha \\mathbf{p}_k)$ and find where $\\phi'(\\alpha)=0$. This method of determining the step length is called the **exact line search** algorithm, and can be combined with any choice of search direction."
   ]
  },
  {
   "cell_type": "markdown",
   "metadata": {},
   "source": [
    "#### Wolfe Conditions\n",
    "\n",
    "It is not feasible to perform exact line search for a general function since determining the optimal $\\alpha_k$ requires excessive analytic calculation even for low-dimensional functions. Instead of calculating the optimal step size, we introduced the **Wolfe conditions** to determine a \"good enough\" step size, i.e. one that guarantees convergence in a reasonable number of iterations. Recall that the Wolfe conditions are given by\n",
    "\n",
    "* Wolfe I (Armijo condition): $\\qquad f_{k+1}\\le f_k+c_1\\alpha_k\\mathbf{p}_k^T\\nabla f_k \\qquad \\leftrightarrow\\qquad \\phi(\\alpha_k)\\le l(\\alpha_k)$\n",
    "* Wolfe II (curvature condition): $\\quad \\mathbf{p}_k^T\\nabla f_{k+1}\\ge c_2\\mathbf{p}_k^T\\nabla f_k \\qquad\\quad \\leftrightarrow\\qquad \\phi'(\\alpha_k)\\ge c_2\\phi'(0)$\n",
    "\n",
    "where $0<c_1<c_2<1$, and generally provide an upper bound (Wolfe I) and a lower bound (Wolfe II) for $\\alpha_k$ that guarantee convergence, though note that the \"acceptable\" values of $\\alpha_k$ may form a disjoint set, particularly for highly non-convex functions, as shown in the image below:\n",
    "\n",
    "<img src=\"https://media.springernature.com/original/springer-static/image/chp%3A10.1007%2F978-3-030-11184-7_5/MediaObjects/447852_1_En_5_Fig7_HTML.png\" width=\"50%\" />"
   ]
  },
  {
   "cell_type": "markdown",
   "metadata": {},
   "source": [
    "#### Backtracking\n",
    "\n",
    "Though the Wolfe conditions provide a theoretical upper and lower bound on $\\alpha_k$, in practice determining these bounds is essentially as difficult as determining the optimal value with exact line search since we still have to solve a generally nonlinear equation. However, one advantage to the Wolfe conditions over exact line search is that it is very easy to check if they are satisfied for a given $\\alpha_k$. We introduced the **backtracking algorithm** to do just this, starting out with a large initial value of $\\alpha$ and iteratively decreasing it until the upper bound set by Wolfe I is satisfied, as follows:\n",
    "\n",
    "1. Set a large initial value $\\tilde\\alpha$, e.g. $\\tilde\\alpha=1$.\n",
    "2. Check if Wolfe I is satisfied, i.e. if $f_{k+1}\\le f_k+c_1\\tilde\\alpha\\mathbf{p}_k^T\\nabla f_k$.\n",
    "3. If true, terminate. If false, set $\\tilde\\alpha\\leftarrow\\rho\\tilde\\alpha$, for $\\rho\\in(0,1)$.\n",
    "4. Repeat 2-3 until true.\n",
    "\n",
    "Note that the result of the backtracking algorithm does not necessarily satisfy the Wolfe II condition, however."
   ]
  },
  {
   "cell_type": "markdown",
   "metadata": {},
   "source": [
    "#### Fixed step length\n",
    "\n",
    "For large enough functions with thousands or even millions of variables, even just evaluating the gradient quickly becomes a bottleneck of the process, so avoiding this calculation as much as possible is a good rule of thumb. Since even backtracking requires multiple evaluations of the gradient, even backtracking is often unfeasible in these cases. This is why most often for large functions (e.g. [artificial neural networks](https://en.wikipedia.org/wiki/Artificial_neural_network)), the value of $\\alpha_k$ is often chosen to just be some \"small enough\" constant throughout all iterations, avoiding all calculations of the gradient except for the determination of $\\mathbf{p}_k$ itself."
   ]
  },
  {
   "cell_type": "markdown",
   "metadata": {},
   "source": [
    "### Rate of Convergence\n",
    "\n",
    "For any sufficient choice of search direction and step length selection algorithm, we can start an iteration running and expect convergence. The **rate of convergence** is a measure of how \"fast\" one would expect the iteration to converge. We define the rate of convergence $p\\ge1$ to be the value such that\n",
    "\n",
    "$$ 0< \\lim_{k\\to\\infty} \\frac{\\|\\mathbf{x}_{k+1}-\\mathbf{x}^*\\|}{\\|\\mathbf{x}_k-\\mathbf{x}^*\\|^p} \\equiv L < \\infty $$\n",
    "\n",
    "where $\\mathbf{x}^*$ is the known minimizer, i.e. the terminal point satisfying $\\nabla f(\\mathbf{x}^*)=\\mathbf{0}$. If $p=1$ and the limit is also equal to 1, we say the convergence is **sub-linear**. If $p=1$ and the limit is smaller than 1, we say the convergence is **linear**. If $p>1$, we say the convergence is **super-linear**. If the limit is equal to 0 for all $p\\ge1$, we say the order of convergence is $\\infty$.\n",
    "\n",
    "In practice, the most important distinction is linear vs. superlinear. A superlinearly convergent method is obviously better than a linearly convergent method, so we try to use those if feasible computationally. An easy way to determine if an iteration converges superlinearly is to compute the limit\n",
    "\n",
    "$$ \\lim_{k\\to\\infty} \\frac{\\|\\mathbf{x}_{k+1}-\\mathbf{x}^*\\|}{\\|\\mathbf{x}_k-\\mathbf{x}^*\\|} $$\n",
    "\n",
    "(note the absence of exponent $p$ in the denominator, i.e. $p=1$). This can be interpreted as the ratio of successive errors in the iteration. Provided we set up the iteration so that descent is guaranteed, this limit *must* be less than 1. If the limit is equal to 1, we have sub-linear convergence. If the limit is less than one but non-zero, we have linear convergence. If this limit is zero, we have super-linear convergence, though we cannot say exactly what the $p$ value is, just that $p>1$.\n",
    "\n",
    "We have shown many analytic results related to the rate of convergence of various methods under certain conditions (e.g. Newton's method is quadratic, steepest descent linear, quasi-Newton and conjugate gradient methods are typically superlinear), but empirically it is difficult to determine the precise value of $p$ without knowing the minmizer beforehand. We showed, however, that this value can be approximated by the successive steps\n",
    "\n",
    "$$ p\\approx \\frac{\\ln\\left(\\frac{\\|\\mathbf{x}_{k+1}-\\mathbf{x}_k\\|}{\\|\\mathbf{x}_k-\\mathbf{x}_{k-1}\\|}\\right)}{\\ln\\left(\\frac{\\|\\mathbf{x}_{k}-\\mathbf{x}_{k-1}\\|}{\\|\\mathbf{x}_{k-1}-\\mathbf{x}_{k-2}\\|}\\right)} $$\n",
    "\n",
    "although in practice this approximation can be very crude and subject to numerical roundoff errors."
   ]
  },
  {
   "cell_type": "markdown",
   "metadata": {},
   "source": [
    "#### Quadratic functions\n",
    "\n",
    "Throughout the quarter we have shown several analytic results for the rate of convergence of various methods for a special type of function called a **quadratic function** of the form\n",
    "\n",
    "$$ f(\\mathbf{x}) = \\frac{1}{2}\\mathbf{x}^TQ\\mathbf{x}-\\mathbf{b}^T\\mathbf{x} $$\n",
    "\n",
    "for $\\mathbf{x}$, $\\mathbf{b}\\in\\mathbb{R}^n$, $Q$ a symmetric positive definite $n\\times n$ matrix. We collect a few of the results here:\n",
    "\n",
    "1. Steepest descent admits an optimal step size $\\alpha_k = \\frac{\\|\\nabla f_k\\|}{\\|\\nabla f_k\\|_Q}$, and **converges linearly** at worst. If $n\\gg1$ and the gradient calculation is expensive, a fixed step size $\\alpha = \\frac{2}{\\lambda_{max}+\\lambda_{min}}$ is \"optimal\" among fixed step lengths.\n",
    "2. Newton's method converges **in one step** for quadratic functions, regardless of the starting point.\n",
    "3. Most quasi-Newton methods converge in **at most $n$ steps** due to the $Q$-conjugacy of search directions.\n",
    "4. The linear conjugate gradient method mimics the $Q$-conjugacy of quasi-Newton methods for quadratic functions, allowing it to also converge in **at most $n$ steps** (and typically many fewer)."
   ]
  },
  {
   "cell_type": "markdown",
   "metadata": {},
   "source": [
    "#### Non-quadratic functions\n",
    "\n",
    "Sufficiently smooth (typically at least $C^2$) functions are approximately quadratic in a neighborhood of the minimizer $\\mathbf{x}^*$. For this reason, many of the above results translate to the non-quadratic case, though in most cases, the analytic results become slightly weaker. For example,\n",
    "\n",
    "1. Steepest descent is still typically **linear**.\n",
    "2. Newton's method converges **quadratically** if the initial guess is \"close enough\" to the minimizer.\n",
    "3. Most quasi-Newton methods converge **superlinearly**.\n",
    "4. Most nonlinear conjugate gradient methods converge **superlinearly**, provided \"restarting\" is used."
   ]
  }
 ],
 "metadata": {
  "kernelspec": {
   "display_name": "Python [conda env:base] *",
   "language": "python",
   "name": "conda-base-py"
  },
  "language_info": {
   "codemirror_mode": {
    "name": "ipython",
    "version": 3
   },
   "file_extension": ".py",
   "mimetype": "text/x-python",
   "name": "python",
   "nbconvert_exporter": "python",
   "pygments_lexer": "ipython3",
   "version": "3.12.7"
  }
 },
 "nbformat": 4,
 "nbformat_minor": 4
}
